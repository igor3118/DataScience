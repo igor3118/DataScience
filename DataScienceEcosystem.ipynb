{
  "nbformat": 4,
  "nbformat_minor": 0,
  "metadata": {
    "colab": {
      "provenance": [],
      "authorship_tag": "ABX9TyMdKtxM1k72tOJz+vOXRgbd",
      "include_colab_link": true
    },
    "kernelspec": {
      "name": "python3",
      "display_name": "Python 3"
    },
    "language_info": {
      "name": "python"
    }
  },
  "cells": [
    {
      "cell_type": "markdown",
      "metadata": {
        "id": "view-in-github",
        "colab_type": "text"
      },
      "source": [
        "<a href=\"https://colab.research.google.com/github/igor3118/DataScience/blob/main/DataScienceEcosystem.ipynb\" target=\"_parent\"><img src=\"https://colab.research.google.com/assets/colab-badge.svg\" alt=\"Open In Colab\"/></a>"
      ]
    },
    {
      "cell_type": "markdown",
      "source": [
        "#Data Science Tools and Ecosystem"
      ],
      "metadata": {
        "id": "uMEhjxZQuhse"
      }
    },
    {
      "cell_type": "markdown",
      "source": [
        "In this notebook, Data Science Tools and Ecosystem are summarized.\n"
      ],
      "metadata": {
        "id": "HtyEXL_tHrUZ"
      }
    },
    {
      "cell_type": "markdown",
      "source": [
        "**Objectives:**\n",
        "*   List popular languages for Data Science\n",
        "*   List popular libraries used by Data Scientists\n",
        "*   List popular IDEs for Data Scientistis\n",
        "\n"
      ],
      "metadata": {
        "id": "bKWZ-L3hLF6T"
      }
    },
    {
      "cell_type": "markdown",
      "source": [
        "Some of the popular languages that Data Scientists use are:\n",
        "1. Phyton\n",
        "2. R\n",
        "3. Java"
      ],
      "metadata": {
        "id": "_Cc9u3a0H7yO"
      }
    },
    {
      "cell_type": "markdown",
      "source": [
        "Some of the commonly used libraries used by Data Scientists include:\n",
        "1. NumPY\n",
        "2. PyTorch\n",
        "3. Plotly\n",
        "\n",
        "\n"
      ],
      "metadata": {
        "id": "tyBGeL97IPUT"
      }
    },
    {
      "cell_type": "markdown",
      "source": [
        "|Data Science Tools|\n",
        "|------------------|\n",
        "|VS code|\n",
        "|R environment|\n",
        "|jupyter|\n"
      ],
      "metadata": {
        "id": "Dw25Q4sNI5LE"
      }
    },
    {
      "cell_type": "markdown",
      "source": [
        "##Below are a few examples of evaluating arithmetic expressions in Python.\n"
      ],
      "metadata": {
        "id": "DpeS7TzPKFjF"
      }
    },
    {
      "cell_type": "code",
      "source": [
        "#This a simple arithmetic expression to mutiply then add integers\n",
        "(3*4)+5"
      ],
      "metadata": {
        "colab": {
          "base_uri": "https://localhost:8080/"
        },
        "id": "tGrAshTtKYCo",
        "outputId": "93715241-f9be-46ad-bcde-72f43a484e29"
      },
      "execution_count": 11,
      "outputs": [
        {
          "output_type": "execute_result",
          "data": {
            "text/plain": [
              "17"
            ]
          },
          "metadata": {},
          "execution_count": 11
        }
      ]
    },
    {
      "cell_type": "code",
      "source": [
        "#This will convert 200 minutes to hours by diving by 60\n",
        "200/60"
      ],
      "metadata": {
        "colab": {
          "base_uri": "https://localhost:8080/"
        },
        "id": "2G04CsMKKqZH",
        "outputId": "33125be0-2c4b-4cc7-8784-c87d1b9ffc98"
      },
      "execution_count": 12,
      "outputs": [
        {
          "output_type": "execute_result",
          "data": {
            "text/plain": [
              "3.3333333333333335"
            ]
          },
          "metadata": {},
          "execution_count": 12
        }
      ]
    },
    {
      "cell_type": "markdown",
      "source": [
        "##Author \n",
        "Igor Cunha de Melo"
      ],
      "metadata": {
        "id": "yFKDO-jHMIyF"
      }
    }
  ]
}